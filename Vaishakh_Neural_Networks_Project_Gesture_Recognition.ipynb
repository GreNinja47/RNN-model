{
 "cells": [
  {
   "cell_type": "markdown",
   "metadata": {
    "id": "6Gh9ZlSuFvIa"
   },
   "source": [
    "## Gesture Recognition ##\n",
    "\n",
    "In this group project, you are going to build a 3D Conv model that will be able to predict the 5 gestures correctly. Please import the following libraries to get started."
   ]
  },
  {
   "cell_type": "code",
   "execution_count": null,
   "metadata": {
    "colab": {
     "base_uri": "https://localhost:8080/"
    },
    "id": "AI-oaB1-FkaM",
    "outputId": "f65edeee-7b07-4b37-84de-5b519f51ca19"
   },
   "outputs": [
    {
     "name": "stdout",
     "output_type": "stream",
     "text": [
      "Collecting scipy==1.1.0\n",
      "\u001b[?25l  Downloading https://files.pythonhosted.org/packages/40/de/0c22c6754370ba6b1fa8e53bd6e514d4a41a181125d405a501c215cbdbd6/scipy-1.1.0-cp37-cp37m-manylinux1_x86_64.whl (31.2MB)\n",
      "\u001b[K     |████████████████████████████████| 31.2MB 100kB/s \n",
      "\u001b[?25hRequirement already satisfied: numpy>=1.8.2 in /usr/local/lib/python3.7/dist-packages (from scipy==1.1.0) (1.19.5)\n",
      "\u001b[31mERROR: plotnine 0.6.0 has requirement scipy>=1.2.0, but you'll have scipy 1.1.0 which is incompatible.\u001b[0m\n",
      "\u001b[31mERROR: albumentations 0.1.12 has requirement imgaug<0.2.7,>=0.2.5, but you'll have imgaug 0.2.9 which is incompatible.\u001b[0m\n",
      "Installing collected packages: scipy\n",
      "  Found existing installation: scipy 1.4.1\n",
      "    Uninstalling scipy-1.4.1:\n",
      "      Successfully uninstalled scipy-1.4.1\n",
      "Successfully installed scipy-1.1.0\n"
     ]
    }
   ],
   "source": [
    "pip install scipy==1.1.0"
   ]
  },
  {
   "cell_type": "code",
   "execution_count": null,
   "metadata": {
    "colab": {
     "base_uri": "https://localhost:8080/"
    },
    "id": "aQu6llKIF0-R",
    "outputId": "42c8059f-f4c7-4e9a-af36-05b12600841d"
   },
   "outputs": [
    {
     "name": "stdout",
     "output_type": "stream",
     "text": [
      "Mounted at /content/gdrive\n"
     ]
    }
   ],
   "source": [
    "## Read google drive file\n",
    "from google.colab import drive\n",
    "drive.mount('/content/gdrive')"
   ]
  },
  {
   "cell_type": "markdown",
   "metadata": {
    "id": "l2dWRAwbpJN4"
   },
   "source": [
    "Importing the required libraries"
   ]
  },
  {
   "cell_type": "code",
   "execution_count": null,
   "metadata": {
    "id": "k6Kx88PHF1Ay"
   },
   "outputs": [],
   "source": [
    "import numpy as np\n",
    "import os\n",
    "from scipy.misc import imread, imresize\n",
    "import imageio\n",
    "import datetime\n",
    "import keras\n",
    "import os"
   ]
  },
  {
   "cell_type": "markdown",
   "metadata": {
    "id": "XcMFbzGepQNP"
   },
   "source": [
    "\n",
    "We set the random seed so that the results don't vary drastically."
   ]
  },
  {
   "cell_type": "code",
   "execution_count": null,
   "metadata": {
    "id": "_EicmvsMF1Dh"
   },
   "outputs": [],
   "source": [
    "np.random.seed(30)\n",
    "import random as rn\n",
    "rn.seed(30)\n",
    "from keras import backend as K\n",
    "import tensorflow as tf\n",
    "tf.random.set_seed(30)"
   ]
  },
  {
   "cell_type": "markdown",
   "metadata": {
    "id": "GIBxqUQgpSU3"
   },
   "source": [
    "Importinng the csv files of training and validation sets"
   ]
  },
  {
   "cell_type": "code",
   "execution_count": null,
   "metadata": {
    "id": "04302_ZiF1GC"
   },
   "outputs": [],
   "source": [
    "train_doc = np.random.permutation(open('/content/gdrive/MyDrive/Files/DS/Project_data/train.csv').readlines())\n",
    "val_doc = np.random.permutation(open('/content/gdrive/MyDrive/Files/DS/Project_data/val.csv').readlines())\n",
    "batch_size = 32  #experiment with the batch size"
   ]
  },
  {
   "cell_type": "markdown",
   "metadata": {
    "id": "kC97tl1wpajR"
   },
   "source": [
    "Generator\n",
    "This is one of the most important part of the code. The overall structure of the generator has been given. In the generator, you are going to preprocess the images as you have images of 2 different dimensions as well as create a batch of video frames. You have to experiment with img_idx, y,z and normalization such that you get high accuracy.\n",
    "\n",
    "https://www.tensorflow.org/api_docs/python/tf/keras/preprocessing/image/ImageDataGenerator"
   ]
  },
  {
   "cell_type": "code",
   "execution_count": null,
   "metadata": {
    "id": "HM7bgwvsF1Ir"
   },
   "outputs": [],
   "source": [
    "x = 30 # number of frames\n",
    "y = 120 # image width\n",
    "z = 120 # image height\n",
    "\n",
    "def generator(source_path, folder_list, batch_size):\n",
    "    print( 'Source path = ', source_path, '; batch size =', batch_size)\n",
    "    img_idx = [x for x in range(0,x)] #create a list of image numbers you want to use for a particular video\n",
    "    while True:\n",
    "        t = np.random.permutation(folder_list)\n",
    "        num_batches = len(folder_list)//batch_size # calculate the number of batches\n",
    "        for batch in range(num_batches): # we iterate over the number of batches\n",
    "            batch_data = np.zeros((batch_size,x,y,z,3)) # x is the number of images you use for each video, (y,z) is the final size of the input images and 3 is the number of channels RGB\n",
    "            batch_labels = np.zeros((batch_size,5)) # batch_labels is the one hot representation of the output\n",
    "            for folder in range(batch_size): # iterate over the batch_size\n",
    "                imgs = os.listdir(source_path+'/'+ t[folder + (batch*batch_size)].split(';')[0]) # read all the images in the folder\n",
    "                for idx,item in enumerate(img_idx): #  Iterate iver the frames/images of a folder to read them in\n",
    "                    image = imread(source_path+'/'+ t[folder + (batch*batch_size)].strip().split(';')[0]+'/'+imgs[item]).astype(np.float32)\n",
    "                    \n",
    "                    #crop the images and resize them. Note that the images are of 2 different shape \n",
    "                    #and the conv3D will throw error if the inputs in a batch have different shapes\n",
    "                    \n",
    "                    temp = imresize(image,(120,120))\n",
    "                    temp = temp/127.5-1 #Normalize data\n",
    "                    \n",
    "                    batch_data[folder,idx,:,:,0] = (temp[:,:,0]) #normalise and feed in the image\n",
    "                    batch_data[folder,idx,:,:,1] = (temp[:,:,1]) #normalise and feed in the image\n",
    "                    batch_data[folder,idx,:,:,2] = (temp[:,:,2]) #normalise and feed in the image\n",
    "                    \n",
    "                batch_labels[folder, int(t[folder + (batch*batch_size)].strip().split(';')[2])] = 1\n",
    "            yield batch_data, batch_labels #you yield the batch_data and the batch_labels, remember what does yield do\n",
    "\n",
    "        \n",
    "        # write the code for the remaining data points which are left after full batches\n",
    "        if (len(folder_list) != batch_size*num_batches):\n",
    "            print(\"Batch: \",num_batches+1,\"Index:\", batch_size)\n",
    "            batch_size = len(folder_list) - (batch_size*num_batches)\n",
    "            batch_data = np.zeros((batch_size,x,y,z,3)) # x is the number of images you use for each video, (y,z) is the final size of the input images and 3 is the number of channels RGB\n",
    "            batch_labels = np.zeros((batch_size,5)) # batch_labels is the one hot representation of the output\n",
    "            for folder in range(batch_size): # iterate over the batch_size\n",
    "                imgs = os.listdir(source_path+'/'+ t[folder + (batch*batch_size)].split(';')[0]) # read all the images in the folder\n",
    "                for idx,item in enumerate(img_idx): #  Iterate iver the frames/images of a folder to read them in\n",
    "                    image = imread(source_path+'/'+ t[folder + (batch*batch_size)].strip().split(';')[0]+'/'+imgs[item]).astype(np.float32)\n",
    "                    \n",
    "                    #crop the images and resize them. Note that the images are of 2 different shape \n",
    "                    #and the conv3D will throw error if the inputs in a batch have different shapes\n",
    "                    temp = imresize(image,(120,120))\n",
    "                    temp = temp/127.5-1 #Normalize data\n",
    "                    \n",
    "                    batch_data[folder,idx,:,:,0] = (temp[:,:,0])\n",
    "                    batch_data[folder,idx,:,:,1] = (temp[:,:,1])\n",
    "                    batch_data[folder,idx,:,:,2] = (temp[:,:,2])\n",
    "                   \n",
    "                batch_labels[folder, int(t[folder + (batch*batch_size)].strip().split(';')[2])] = 1\n",
    "            yield batch_data, batch_labels"
   ]
  },
  {
   "cell_type": "code",
   "execution_count": null,
   "metadata": {
    "colab": {
     "base_uri": "https://localhost:8080/"
    },
    "id": "t80Ak00zF1LS",
    "outputId": "53786f32-a20c-4d72-d8d6-d883dd3fe23b"
   },
   "outputs": [
    {
     "name": "stdout",
     "output_type": "stream",
     "text": [
      "# training sequences = 663\n",
      "# validation sequences = 100\n",
      "# epochs = 30\n"
     ]
    }
   ],
   "source": [
    "curr_dt_time = datetime.datetime.now()\n",
    "train_path = '/content/gdrive/MyDrive/Files/DS/Project_data/train'\n",
    "val_path = '/content/gdrive/MyDrive/Files/DS/Project_data/val'\n",
    "num_train_sequences = len(train_doc)\n",
    "print('# training sequences =', num_train_sequences)\n",
    "num_val_sequences = len(val_doc)\n",
    "print('# validation sequences =', num_val_sequences)\n",
    "num_epochs = 30\n",
    "print ('# epochs =', num_epochs)"
   ]
  },
  {
   "cell_type": "markdown",
   "metadata": {
    "id": "NsO1Z-Htqa3E"
   },
   "source": [
    "Model\n",
    "\n",
    "Here you make the model using different functionalities that Keras provides. Remember to use Conv3D and MaxPooling3D and not Conv2D and Maxpooling2D for a 3D convolution model. You would want to use TimeDistributed while building a Conv2D + RNN model. Also remember that the last layer is the softmax. Design the network in such a way that the model is able to give good accuracy on the least number of parameters so that it can fit in the memory of the webcam."
   ]
  },
  {
   "cell_type": "code",
   "execution_count": null,
   "metadata": {
    "id": "Vi6dbMW3F1Ny"
   },
   "outputs": [],
   "source": [
    "from keras.models import Sequential, Model\n",
    "from keras.layers import Dense, GRU, Flatten, TimeDistributed, Flatten, BatchNormalization, Activation, Dropout\n",
    "from keras.layers.convolutional import Conv3D, MaxPooling3D\n",
    "from keras.callbacks import ModelCheckpoint, ReduceLROnPlateau\n",
    "from keras import optimizers\n",
    "from keras.layers import LeakyReLU\n",
    "\n",
    "#write your model here\n",
    "input_shape = (30, 120, 120, 3)\n",
    "model= Sequential()\n",
    "model.add(Conv3D(8,kernel_size =(3,3,3),input_shape=(30,120,120,3),padding = 'same'))\n",
    "model.add(BatchNormalization())\n",
    "model.add(LeakyReLU(alpha=.001))\n",
    "\n",
    "# Layer_1\n",
    "\n",
    "model.add(Conv3D(16,(3,3,3),padding ='same'))\n",
    "model.add(LeakyReLU(alpha=.001))\n",
    "model.add(BatchNormalization())\n",
    "model.add(MaxPooling3D(pool_size=(2,2,2)))\n",
    "\n",
    "# Layer_2\n",
    "\n",
    "model.add(Conv3D(32,(3,3,3),padding ='same'))\n",
    "model.add(LeakyReLU(alpha=.001))\n",
    "model.add(BatchNormalization())\n",
    "model.add(MaxPooling3D(pool_size=(2,2,2)))\n",
    "\n",
    "# Layer_3\n",
    "\n",
    "model.add(Conv3D(64,(2,2,2),padding ='same'))\n",
    "model.add(LeakyReLU(alpha=.001))\n",
    "model.add(BatchNormalization())\n",
    "model.add(MaxPooling3D(pool_size=(2,2,2)))\n",
    "\n",
    "# Layer_4 till layer 3 i was getting accuaracy [loss: 1.6099 - categorical_accuracy: 0.1830 - val_loss: 1.6149 - val_categorical_accuracy: 0.1250] \n",
    "\n",
    "model.add(Conv3D(128,(2,2,2),padding ='same'))\n",
    "model.add(LeakyReLU(alpha=.001))\n",
    "model.add(BatchNormalization())\n",
    "model.add(MaxPooling3D(pool_size=(2,2,2)))\n",
    "\n",
    "# Flatten layer \n",
    "\n",
    "model.add(Flatten())\n",
    "model.add(Dense(1000, activation='relu'))\n",
    "model.add(Dropout(0.5))\n",
    "model.add(Dense(500, activation='relu'))\n",
    "model.add(Dropout(0.5))\n",
    "\n",
    "#Softmax layer\n",
    "model.add(Dense(5, activation='softmax'))"
   ]
  },
  {
   "cell_type": "markdown",
   "metadata": {
    "id": "4j8eixvvqfFf"
   },
   "source": [
    "Now that you have written the model, the next step is to compile the model. When you print the summary of the model, you'll see the total number of parameters you have to train."
   ]
  },
  {
   "cell_type": "code",
   "execution_count": null,
   "metadata": {
    "colab": {
     "base_uri": "https://localhost:8080/"
    },
    "id": "GyTXMrakF1QK",
    "outputId": "170af448-d35a-44a3-be80-89020ed1ab8c"
   },
   "outputs": [
    {
     "name": "stdout",
     "output_type": "stream",
     "text": [
      "Model: \"sequential\"\n",
      "_________________________________________________________________\n",
      "Layer (type)                 Output Shape              Param #   \n",
      "=================================================================\n",
      "conv3d (Conv3D)              (None, 30, 120, 120, 8)   656       \n",
      "_________________________________________________________________\n",
      "batch_normalization (BatchNo (None, 30, 120, 120, 8)   32        \n",
      "_________________________________________________________________\n",
      "leaky_re_lu (LeakyReLU)      (None, 30, 120, 120, 8)   0         \n",
      "_________________________________________________________________\n",
      "conv3d_1 (Conv3D)            (None, 30, 120, 120, 16)  3472      \n",
      "_________________________________________________________________\n",
      "leaky_re_lu_1 (LeakyReLU)    (None, 30, 120, 120, 16)  0         \n",
      "_________________________________________________________________\n",
      "batch_normalization_1 (Batch (None, 30, 120, 120, 16)  64        \n",
      "_________________________________________________________________\n",
      "max_pooling3d (MaxPooling3D) (None, 15, 60, 60, 16)    0         \n",
      "_________________________________________________________________\n",
      "conv3d_2 (Conv3D)            (None, 15, 60, 60, 32)    13856     \n",
      "_________________________________________________________________\n",
      "leaky_re_lu_2 (LeakyReLU)    (None, 15, 60, 60, 32)    0         \n",
      "_________________________________________________________________\n",
      "batch_normalization_2 (Batch (None, 15, 60, 60, 32)    128       \n",
      "_________________________________________________________________\n",
      "max_pooling3d_1 (MaxPooling3 (None, 7, 30, 30, 32)     0         \n",
      "_________________________________________________________________\n",
      "conv3d_3 (Conv3D)            (None, 7, 30, 30, 64)     16448     \n",
      "_________________________________________________________________\n",
      "leaky_re_lu_3 (LeakyReLU)    (None, 7, 30, 30, 64)     0         \n",
      "_________________________________________________________________\n",
      "batch_normalization_3 (Batch (None, 7, 30, 30, 64)     256       \n",
      "_________________________________________________________________\n",
      "max_pooling3d_2 (MaxPooling3 (None, 3, 15, 15, 64)     0         \n",
      "_________________________________________________________________\n",
      "conv3d_4 (Conv3D)            (None, 3, 15, 15, 128)    65664     \n",
      "_________________________________________________________________\n",
      "leaky_re_lu_4 (LeakyReLU)    (None, 3, 15, 15, 128)    0         \n",
      "_________________________________________________________________\n",
      "batch_normalization_4 (Batch (None, 3, 15, 15, 128)    512       \n",
      "_________________________________________________________________\n",
      "max_pooling3d_3 (MaxPooling3 (None, 1, 7, 7, 128)      0         \n",
      "_________________________________________________________________\n",
      "flatten (Flatten)            (None, 6272)              0         \n",
      "_________________________________________________________________\n",
      "dense (Dense)                (None, 1000)              6273000   \n",
      "_________________________________________________________________\n",
      "dropout (Dropout)            (None, 1000)              0         \n",
      "_________________________________________________________________\n",
      "dense_1 (Dense)              (None, 500)               500500    \n",
      "_________________________________________________________________\n",
      "dropout_1 (Dropout)          (None, 500)               0         \n",
      "_________________________________________________________________\n",
      "dense_2 (Dense)              (None, 5)                 2505      \n",
      "=================================================================\n",
      "Total params: 6,877,093\n",
      "Trainable params: 6,876,597\n",
      "Non-trainable params: 496\n",
      "_________________________________________________________________\n",
      "None\n"
     ]
    }
   ],
   "source": [
    "#optimiser = Keras.optimizers.Adam(lr=0.001)\n",
    "model.compile(optimizer='adam', loss='categorical_crossentropy', metrics=['categorical_accuracy'])\n",
    "print (model.summary())"
   ]
  },
  {
   "cell_type": "markdown",
   "metadata": {
    "id": "Ov1RTGgfqitx"
   },
   "source": [
    "Let us create the train_generator and the val_generator which will be used in .fit_generator."
   ]
  },
  {
   "cell_type": "code",
   "execution_count": null,
   "metadata": {
    "id": "5S8noeKhGFDa"
   },
   "outputs": [],
   "source": [
    "train_generator = generator(train_path, train_doc, batch_size)\n",
    "val_generator = generator(val_path, val_doc, batch_size)"
   ]
  },
  {
   "cell_type": "code",
   "execution_count": null,
   "metadata": {
    "colab": {
     "base_uri": "https://localhost:8080/"
    },
    "id": "RP8n8oPaGFGD",
    "outputId": "f560bfe1-68e3-4874-ba27-0de1f894a469"
   },
   "outputs": [
    {
     "name": "stdout",
     "output_type": "stream",
     "text": [
      "WARNING:tensorflow:`period` argument is deprecated. Please use `save_freq` to specify the frequency in number of batches seen.\n",
      "WARNING:tensorflow:`epsilon` argument is deprecated and will be removed, use `min_delta` instead.\n"
     ]
    }
   ],
   "source": [
    "model_name = 'model_init' + '_' + str(curr_dt_time).replace(' ','').replace(':','_') + '/'\n",
    "    \n",
    "if not os.path.exists(model_name):\n",
    "    os.mkdir(model_name)\n",
    "        \n",
    "filepath = model_name + 'model-{epoch:05d}-{loss:.5f}-{categorical_accuracy:.5f}-{val_loss:.5f}-{val_categorical_accuracy:.5f}.h5'\n",
    "\n",
    "checkpoint = ModelCheckpoint(filepath, monitor='val_loss', verbose=1, save_best_only=False, save_weights_only=False, mode='auto', period=1)\n",
    "\n",
    "# write the REducelronplateau code here\n",
    "LR = ReduceLROnPlateau(monitor = \"val_loss\", \n",
    "                       factor = 0.1, \n",
    "                       patience = 10,   \n",
    "                       verbose = 0, \n",
    "                       mode = \"auto\", \n",
    "                       epsilon = 1e-04, \n",
    "                       cooldown = 0,\n",
    "                       min_lr = 0)\n",
    "\n",
    "callbacks_list = [checkpoint, LR]"
   ]
  },
  {
   "cell_type": "markdown",
   "metadata": {
    "id": "1dAdWMIbqofv"
   },
   "source": [
    "The steps_per_epoch and validation_steps are used by fit_generator to decide the number of next() calls it need to make."
   ]
  },
  {
   "cell_type": "code",
   "execution_count": null,
   "metadata": {
    "id": "3u0VYhwTGFIk"
   },
   "outputs": [],
   "source": [
    "if (num_train_sequences%batch_size) == 0:\n",
    "    steps_per_epoch = int(num_train_sequences/batch_size)\n",
    "else:\n",
    "    steps_per_epoch = (num_train_sequences//batch_size) + 1\n",
    "\n",
    "if (num_val_sequences%batch_size) == 0:\n",
    "    validation_steps = int(num_val_sequences/batch_size)\n",
    "else:\n",
    "    validation_steps = (num_val_sequences//batch_size) + 1"
   ]
  },
  {
   "cell_type": "code",
   "execution_count": null,
   "metadata": {
    "colab": {
     "base_uri": "https://localhost:8080/"
    },
    "id": "rGAxC3FxGKdM",
    "outputId": "ccc4c482-d7c1-4ca8-f0ce-9431eb34ebfc"
   },
   "outputs": [
    {
     "name": "stdout",
     "output_type": "stream",
     "text": [
      "steps_per_epoch:  21\n",
      "validation_steps:  4\n"
     ]
    }
   ],
   "source": [
    "print('steps_per_epoch: ',steps_per_epoch)\n",
    "print('validation_steps: ',validation_steps)"
   ]
  },
  {
   "cell_type": "markdown",
   "metadata": {
    "id": "XJ4oSEqxqroX"
   },
   "source": [
    "Let us now fit the model. This will start training the model and with the help of the checkpoints, you'll be able to save the model at the end of each epoch."
   ]
  },
  {
   "cell_type": "code",
   "execution_count": null,
   "metadata": {
    "colab": {
     "base_uri": "https://localhost:8080/"
    },
    "id": "VDZYeJZLGKgK",
    "outputId": "dfeb3598-c7a3-4a86-c97a-4b0a14ae026e"
   },
   "outputs": [
    {
     "name": "stdout",
     "output_type": "stream",
     "text": [
      "Source path =  /content/gdrive/MyDrive/Files/DS/Project_data/train ; batch size = 32\n"
     ]
    },
    {
     "name": "stderr",
     "output_type": "stream",
     "text": [
      "/usr/local/lib/python3.7/dist-packages/ipykernel_launcher.py:17: DeprecationWarning:     `imread` is deprecated!\n",
      "    `imread` is deprecated in SciPy 1.0.0, and will be removed in 1.2.0.\n",
      "    Use ``imageio.imread`` instead.\n",
      "/usr/local/lib/python3.7/dist-packages/ipykernel_launcher.py:22: DeprecationWarning:     `imresize` is deprecated!\n",
      "    `imresize` is deprecated in SciPy 1.0.0, and will be removed in 1.2.0.\n",
      "    Use ``skimage.transform.resize`` instead.\n"
     ]
    },
    {
     "name": "stdout",
     "output_type": "stream",
     "text": [
      "Epoch 1/30\n",
      "19/21 [==========================>...] - ETA: 6:15 - loss: 8.6023 - categorical_accuracy: 0.3072Batch:  21 Index: 32\n"
     ]
    },
    {
     "name": "stderr",
     "output_type": "stream",
     "text": [
      "/usr/local/lib/python3.7/dist-packages/ipykernel_launcher.py:42: DeprecationWarning:     `imread` is deprecated!\n",
      "    `imread` is deprecated in SciPy 1.0.0, and will be removed in 1.2.0.\n",
      "    Use ``imageio.imread`` instead.\n",
      "/usr/local/lib/python3.7/dist-packages/ipykernel_launcher.py:46: DeprecationWarning:     `imresize` is deprecated!\n",
      "    `imresize` is deprecated in SciPy 1.0.0, and will be removed in 1.2.0.\n",
      "    Use ``skimage.transform.resize`` instead.\n"
     ]
    },
    {
     "name": "stdout",
     "output_type": "stream",
     "text": [
      "21/21 [==============================] - ETA: 0s - loss: 8.3411 - categorical_accuracy: 0.3088  Source path =  /content/gdrive/MyDrive/Files/DS/Project_data/val ; batch size = 32\n",
      "Batch:  4 Index: 32\n",
      "21/21 [==============================] - 4276s 212s/step - loss: 8.2247 - categorical_accuracy: 0.3097 - val_loss: 1.4490 - val_categorical_accuracy: 0.3200\n",
      "\n",
      "Epoch 00001: saving model to model_init_2021-04-0311_28_19.104657/model-00001-5.78038-0.32881-1.44901-0.32000.h5\n",
      "Epoch 2/30\n",
      "21/21 [==============================] - 168s 8s/step - loss: 1.9760 - categorical_accuracy: 0.4741 - val_loss: 1.7376 - val_categorical_accuracy: 0.3750\n",
      "\n",
      "Epoch 00002: saving model to model_init_2021-04-0311_28_19.104657/model-00002-1.87535-0.47205-1.73755-0.37500.h5\n",
      "Epoch 3/30\n",
      " 6/21 [=======>......................] - ETA: 1:45 - loss: 1.4793 - categorical_accuracy: 0.5178Batch:  29 Index: 23\n",
      "21/21 [==============================] - 84s 4s/step - loss: 1.4240 - categorical_accuracy: 0.5486 - val_loss: 3.5625 - val_categorical_accuracy: 0.1875\n",
      "\n",
      "Epoch 00003: saving model to model_init_2021-04-0311_28_19.104657/model-00003-1.46409-0.53864-3.56247-0.18750.h5\n",
      "Epoch 4/30\n",
      "20/21 [===========================>..] - ETA: 2s - loss: 1.4914 - categorical_accuracy: 0.5371Batch:  35 Index: 19\n",
      "21/21 [==============================] - 57s 3s/step - loss: 1.4930 - categorical_accuracy: 0.5350 - val_loss: 4.3975 - val_categorical_accuracy: 0.3125\n",
      "\n",
      "Epoch 00004: saving model to model_init_2021-04-0311_28_19.104657/model-00004-1.50988-0.51378-4.39745-0.31250.h5\n",
      "Epoch 5/30\n",
      "21/21 [==============================] - 69s 3s/step - loss: 1.2123 - categorical_accuracy: 0.5592 - val_loss: 6.2926 - val_categorical_accuracy: 0.1250\n",
      "\n",
      "Epoch 00005: saving model to model_init_2021-04-0311_28_19.104657/model-00005-1.16227-0.58263-6.29262-0.12500.h5\n",
      "Epoch 6/30\n",
      "21/21 [==============================] - 49s 2s/step - loss: 1.1185 - categorical_accuracy: 0.6433 - val_loss: 7.4781 - val_categorical_accuracy: 0.3125\n",
      "\n",
      "Epoch 00006: saving model to model_init_2021-04-0311_28_19.104657/model-00006-1.17353-0.62465-7.47807-0.31250.h5\n",
      "Epoch 7/30\n",
      "21/21 [==============================] - 52s 3s/step - loss: 1.0636 - categorical_accuracy: 0.6505 - val_loss: 6.3625 - val_categorical_accuracy: 0.2500\n",
      "\n",
      "Epoch 00007: saving model to model_init_2021-04-0311_28_19.104657/model-00007-0.90105-0.68627-6.36255-0.25000.h5\n",
      "Epoch 8/30\n",
      "21/21 [==============================] - 49s 2s/step - loss: 0.8596 - categorical_accuracy: 0.7177 - val_loss: 5.5687 - val_categorical_accuracy: 0.3125\n",
      "\n",
      "Epoch 00008: saving model to model_init_2021-04-0311_28_19.104657/model-00008-0.95138-0.70308-5.56873-0.31250.h5\n",
      "Epoch 9/30\n",
      "21/21 [==============================] - 52s 3s/step - loss: 0.7539 - categorical_accuracy: 0.7531 - val_loss: 6.4862 - val_categorical_accuracy: 0.3125\n",
      "\n",
      "Epoch 00009: saving model to model_init_2021-04-0311_28_19.104657/model-00009-0.79453-0.74230-6.48620-0.31250.h5\n",
      "Epoch 10/30\n",
      "21/21 [==============================] - 49s 2s/step - loss: 0.7182 - categorical_accuracy: 0.7801 - val_loss: 4.7074 - val_categorical_accuracy: 0.2500\n",
      "\n",
      "Epoch 00010: saving model to model_init_2021-04-0311_28_19.104657/model-00010-0.70578-0.77031-4.70742-0.25000.h5\n",
      "Epoch 11/30\n",
      "21/21 [==============================] - 49s 2s/step - loss: 0.8121 - categorical_accuracy: 0.7135 - val_loss: 3.7469 - val_categorical_accuracy: 0.3750\n",
      "\n",
      "Epoch 00011: saving model to model_init_2021-04-0311_28_19.104657/model-00011-0.67909-0.75630-3.74688-0.37500.h5\n",
      "Epoch 12/30\n",
      "21/21 [==============================] - 49s 2s/step - loss: 0.5549 - categorical_accuracy: 0.7906 - val_loss: 3.9962 - val_categorical_accuracy: 0.2500\n",
      "\n",
      "Epoch 00012: saving model to model_init_2021-04-0311_28_19.104657/model-00012-0.51139-0.81513-3.99618-0.25000.h5\n",
      "Epoch 13/30\n",
      "21/21 [==============================] - 50s 2s/step - loss: 0.3466 - categorical_accuracy: 0.8951 - val_loss: 4.0938 - val_categorical_accuracy: 0.2500\n",
      "\n",
      "Epoch 00013: saving model to model_init_2021-04-0311_28_19.104657/model-00013-0.33136-0.90476-4.09379-0.25000.h5\n",
      "Epoch 14/30\n",
      "21/21 [==============================] - 52s 3s/step - loss: 0.4097 - categorical_accuracy: 0.8677 - val_loss: 2.2073 - val_categorical_accuracy: 0.5000\n",
      "\n",
      "Epoch 00014: saving model to model_init_2021-04-0311_28_19.104657/model-00014-0.37909-0.86555-2.20733-0.50000.h5\n",
      "Epoch 15/30\n",
      "21/21 [==============================] - 48s 2s/step - loss: 0.3089 - categorical_accuracy: 0.8886 - val_loss: 2.9513 - val_categorical_accuracy: 0.3750\n",
      "\n",
      "Epoch 00015: saving model to model_init_2021-04-0311_28_19.104657/model-00015-0.31373-0.87115-2.95132-0.37500.h5\n",
      "Epoch 16/30\n",
      "21/21 [==============================] - 51s 3s/step - loss: 0.2680 - categorical_accuracy: 0.9027 - val_loss: 3.9329 - val_categorical_accuracy: 0.3750\n",
      "\n",
      "Epoch 00016: saving model to model_init_2021-04-0311_28_19.104657/model-00016-0.30542-0.89916-3.93291-0.37500.h5\n",
      "Epoch 17/30\n",
      "21/21 [==============================] - 49s 2s/step - loss: 0.2837 - categorical_accuracy: 0.8847 - val_loss: 2.9796 - val_categorical_accuracy: 0.2500\n",
      "\n",
      "Epoch 00017: saving model to model_init_2021-04-0311_28_19.104657/model-00017-0.30603-0.87675-2.97956-0.25000.h5\n",
      "Epoch 18/30\n",
      "21/21 [==============================] - 50s 2s/step - loss: 0.2210 - categorical_accuracy: 0.9066 - val_loss: 1.4730 - val_categorical_accuracy: 0.5000\n",
      "\n",
      "Epoch 00018: saving model to model_init_2021-04-0311_28_19.104657/model-00018-0.22046-0.91036-1.47299-0.50000.h5\n",
      "Epoch 19/30\n",
      "21/21 [==============================] - 50s 2s/step - loss: 0.2376 - categorical_accuracy: 0.9193 - val_loss: 0.7256 - val_categorical_accuracy: 0.6250\n",
      "\n",
      "Epoch 00019: saving model to model_init_2021-04-0311_28_19.104657/model-00019-0.22958-0.91597-0.72563-0.62500.h5\n",
      "Epoch 20/30\n",
      "21/21 [==============================] - 51s 3s/step - loss: 0.1539 - categorical_accuracy: 0.9587 - val_loss: 0.2514 - val_categorical_accuracy: 0.8125\n",
      "\n",
      "Epoch 00020: saving model to model_init_2021-04-0311_28_19.104657/model-00020-0.17761-0.94398-0.25141-0.81250.h5\n",
      "Epoch 21/30\n",
      "21/21 [==============================] - 49s 2s/step - loss: 0.1767 - categorical_accuracy: 0.9291 - val_loss: 1.3830 - val_categorical_accuracy: 0.6250\n",
      "\n",
      "Epoch 00021: saving model to model_init_2021-04-0311_28_19.104657/model-00021-0.14397-0.95238-1.38299-0.62500.h5\n",
      "Epoch 22/30\n",
      "21/21 [==============================] - 50s 2s/step - loss: 0.2515 - categorical_accuracy: 0.9056 - val_loss: 0.6868 - val_categorical_accuracy: 0.8750\n",
      "\n",
      "Epoch 00022: saving model to model_init_2021-04-0311_28_19.104657/model-00022-0.20969-0.92437-0.68677-0.87500.h5\n",
      "Epoch 23/30\n",
      "21/21 [==============================] - 52s 3s/step - loss: 0.1800 - categorical_accuracy: 0.9327 - val_loss: 0.6943 - val_categorical_accuracy: 0.6875\n",
      "\n",
      "Epoch 00023: saving model to model_init_2021-04-0311_28_19.104657/model-00023-0.15054-0.94678-0.69426-0.68750.h5\n",
      "Epoch 24/30\n",
      "21/21 [==============================] - 51s 3s/step - loss: 0.1400 - categorical_accuracy: 0.9558 - val_loss: 1.7484 - val_categorical_accuracy: 0.5625\n",
      "\n",
      "Epoch 00024: saving model to model_init_2021-04-0311_28_19.104657/model-00024-0.15257-0.95238-1.74843-0.56250.h5\n",
      "Epoch 25/30\n",
      "21/21 [==============================] - 49s 2s/step - loss: 0.1776 - categorical_accuracy: 0.9263 - val_loss: 0.2060 - val_categorical_accuracy: 0.8125\n",
      "\n",
      "Epoch 00025: saving model to model_init_2021-04-0311_28_19.104657/model-00025-0.16848-0.93557-0.20596-0.81250.h5\n",
      "Epoch 26/30\n",
      "21/21 [==============================] - 52s 3s/step - loss: 0.1199 - categorical_accuracy: 0.9623 - val_loss: 0.7384 - val_categorical_accuracy: 0.8125\n",
      "\n",
      "Epoch 00026: saving model to model_init_2021-04-0311_28_19.104657/model-00026-0.17260-0.94118-0.73843-0.81250.h5\n",
      "Epoch 27/30\n",
      "21/21 [==============================] - 49s 2s/step - loss: 0.2116 - categorical_accuracy: 0.9306 - val_loss: 1.0940 - val_categorical_accuracy: 0.6875\n",
      "\n",
      "Epoch 00027: saving model to model_init_2021-04-0311_28_19.104657/model-00027-0.20523-0.94118-1.09398-0.68750.h5\n",
      "Epoch 28/30\n",
      "21/21 [==============================] - 51s 3s/step - loss: 0.1166 - categorical_accuracy: 0.9584 - val_loss: 1.5354 - val_categorical_accuracy: 0.6875\n",
      "\n",
      "Epoch 00028: saving model to model_init_2021-04-0311_28_19.104657/model-00028-0.11244-0.96078-1.53543-0.68750.h5\n",
      "Epoch 29/30\n",
      "21/21 [==============================] - 48s 2s/step - loss: 0.1587 - categorical_accuracy: 0.9606 - val_loss: 0.2845 - val_categorical_accuracy: 0.9375\n",
      "\n",
      "Epoch 00029: saving model to model_init_2021-04-0311_28_19.104657/model-00029-0.17428-0.94958-0.28451-0.93750.h5\n",
      "Epoch 30/30\n",
      "21/21 [==============================] - 52s 3s/step - loss: 0.1350 - categorical_accuracy: 0.9310 - val_loss: 0.2832 - val_categorical_accuracy: 0.8750\n",
      "\n",
      "Epoch 00030: saving model to model_init_2021-04-0311_28_19.104657/model-00030-0.12981-0.95518-0.28321-0.87500.h5\n"
     ]
    },
    {
     "data": {
      "text/plain": [
       "<tensorflow.python.keras.callbacks.History at 0x7fc5406cb750>"
      ]
     },
     "execution_count": 14,
     "metadata": {
      "tags": []
     },
     "output_type": "execute_result"
    }
   ],
   "source": [
    "model.fit(train_generator, \n",
    "          steps_per_epoch=steps_per_epoch,                     \n",
    "          epochs=num_epochs,                     \n",
    "          verbose=1,                     \n",
    "          callbacks=callbacks_list,                     \n",
    "          validation_data=val_generator,                     \n",
    "          validation_steps=validation_steps,                     \n",
    "          class_weight=None,                     \n",
    "          workers=1,                     \n",
    "          initial_epoch=0)"
   ]
  },
  {
   "cell_type": "markdown",
   "metadata": {
    "id": "kU7BepouqtM3"
   },
   "source": [
    "Observation: The final accuracy that we see for 30 epochs is loss: 0.1350 - categorical_accuracy: 0.9310 - val_loss: 0.2832 - val_categorical_accuracy: 0.8750, which could be greatly improved as we increase the epochs to 50,100...\n"
   ]
  },
  {
   "cell_type": "markdown",
   "metadata": {},
   "source": [
    "Note: All the details of file coding, parameter used and working will be explained in the write up doc file "
   ]
  },
  {
   "cell_type": "code",
   "execution_count": null,
   "metadata": {
    "id": "_ISufQvWGKjB"
   },
   "outputs": [],
   "source": [
    "model.save('model.h5')"
   ]
  },
  {
   "cell_type": "markdown",
   "metadata": {
    "id": "fU_HzS6ArQ54"
   },
   "source": [
    "The model file is downloaded and will be included in the attachments"
   ]
  }
 ],
 "metadata": {
  "accelerator": "GPU",
  "colab": {
   "collapsed_sections": [],
   "name": "Vaishakh_Neural Networks Project - Gesture Recognition.ipynb",
   "provenance": []
  },
  "kernelspec": {
   "display_name": "Python 3",
   "language": "python",
   "name": "python3"
  },
  "language_info": {
   "codemirror_mode": {
    "name": "ipython",
    "version": 3
   },
   "file_extension": ".py",
   "mimetype": "text/x-python",
   "name": "python",
   "nbconvert_exporter": "python",
   "pygments_lexer": "ipython3",
   "version": "3.8.5"
  }
 },
 "nbformat": 4,
 "nbformat_minor": 1
}
